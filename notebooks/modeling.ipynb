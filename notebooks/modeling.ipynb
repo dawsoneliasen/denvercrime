{
 "cells": [
  {
   "cell_type": "markdown",
   "metadata": {},
   "source": [
    "# Modeling\n",
    "\n",
    "We're going to use SciKit-Learn to generate some models that will (hopefully) help us make predictions about crime in Denver."
   ]
  },
  {
   "cell_type": "markdown",
   "metadata": {},
   "source": [
    "## SciKit-Learn and linear regression\n",
    "SciKit-Learn is one of the most popular machine learning libraries about there. It allows us to create models very easily! Let's use it to create a simple [linear regression model](https://scikit-learn.org/stable/modules/linear_model.html#ordinary-least-squares). If you're unfamiliar with linear regression, the idea is to essentially draw a line of best fit through the data.\n",
    "\n",
    "The way we do this is by 'fitting' a line based on a set of input data, `X`, and a response variable, `y`. If we're trying to predict crime occurrences, `y` should be the count of occurrences of a specific type of crime in a specific neighborhood. `X` should be the set of predictor features that we are going to use to predict `y`. Feature engineering is the process of creating `X` and `y` from the raw data. We implemented the feature engineering functionality in `denvercrime/src/features/make_features.py`. \n",
    "\n",
    "Let's try to predict how many occurences of drug/alcohol related crimes will occur in Stapleton tomorrow. The first step is to create the training data using the feature engineering functionality. Here are the docstrings for the feature engineering functions, so you can get an idea of how they work. **Note that running the feature engineering functions might take a while.**\n",
    "\n",
    "```python\n",
    "def make_predictors(df, date, hood):\n",
    "    \"\"\" Create predictor variables.\n",
    "\n",
    "    Parameters:\n",
    "        df (DataFrame): crime data\n",
    "        date (datetime.date): datetime.date obj; date to predict\n",
    "        hood (str): value for df['NEIGHBORHOOD_ID']\n",
    "\n",
    "    Returns:\n",
    "        (DataFrame): Rows are indexed by predictions, columns are features (counts for different intervals)\n",
    "    \"\"\"\n",
    "    \n",
    "def make_responses(df, dates, hood, category):\n",
    "    \"\"\" Create response variables.\n",
    "\n",
    "    Parameters:\n",
    "        df (DataFrame): crime data\n",
    "        dates (list): list of datetime.date objs\n",
    "        hood (str): value for df['NEIGHBORHOOD_ID']\n",
    "        category (str): value for df['OFFENSE_CATEGORY_ID']\n",
    "\n",
    "    Returns:\n",
    "        (Series): Counts of each offense category for this date and neighborhood\n",
    "    \"\"\"\n",
    "```"
   ]
  },
  {
   "cell_type": "code",
   "execution_count": 2,
   "metadata": {},
   "outputs": [],
   "source": [
    "# import modules\n",
    "import datetime as dt\n",
    "import numpy as np\n",
    "import pandas as pd\n",
    "import sys, os\n",
    "sys.path.append('../src/features/')\n",
    "from make_features import make_predictors\n",
    "from make_features import make_responses"
   ]
  },
  {
   "cell_type": "code",
   "execution_count": 3,
   "metadata": {},
   "outputs": [],
   "source": [
    "if os.path.exists('../data/processed/crime.pkl'):\n",
    "    # if we already made the crime data, then just load it\n",
    "    crime = pd.read_pickle('../data/processed/crime.pkl')\n",
    "else:\n",
    "    # read in the crime data\n",
    "    crime = pd.read_csv('../data/raw/crime.csv', parse_dates=True)\n",
    "    # change the date to datetime type and round to nearest day\n",
    "    crime['REPORTED_DATE'] = pd.to_datetime(crime['REPORTED_DATE']).dt.normalize()\n",
    "    crime.to_pickle('../data/processed/crime.pkl')"
   ]
  },
  {
   "cell_type": "code",
   "execution_count": null,
   "metadata": {},
   "outputs": [],
   "source": [
    "nhood = 'stapleton'\n",
    "crimetype = 'drug-alcohol'"
   ]
  },
  {
   "cell_type": "code",
   "execution_count": 31,
   "metadata": {},
   "outputs": [
    {
     "name": "stdout",
     "output_type": "stream",
     "text": [
      "done\n"
     ]
    }
   ],
   "source": [
    "# make a list of dates for make_responses\n",
    "dates = pd.date_range(\n",
    "            dt.datetime.strptime('2015-01-02', '%Y-%m-%d'),\n",
    "            dt.datetime.strptime('2019-02-07', '%Y-%m-%d'), \n",
    "            #periods=500\n",
    "            freq=\"1D\"\n",
    "        ).normalize().tolist()\n",
    "\n",
    "# initialize training data\n",
    "X_train = make_predictors(\n",
    "    crime,\n",
    "    dates,\n",
    "    nhood,\n",
    "    crimetype\n",
    ")\n",
    "y_train = make_responses(\n",
    "    crime,\n",
    "    dates,\n",
    "    nhood,\n",
    "    crimetype\n",
    ")\n",
    "print('done')"
   ]
  },
  {
   "cell_type": "code",
   "execution_count": 35,
   "metadata": {},
   "outputs": [
    {
     "name": "stdout",
     "output_type": "stream",
     "text": [
      "1498\n",
      "(1498, 31)\n",
      "(1498, 1)\n",
      "[Timestamp('2015-01-03 00:00:00', freq='D'), Timestamp('2015-01-04 00:00:00', freq='D'), Timestamp('2015-01-05 00:00:00', freq='D'), Timestamp('2015-01-06 00:00:00', freq='D')]\n"
     ]
    }
   ],
   "source": [
    "print(len(dates))\n",
    "print(X_train.shape)\n",
    "print(y_train.shape)\n",
    "print(dates[1:5])"
   ]
  },
  {
   "cell_type": "markdown",
   "metadata": {},
   "source": [
    "Now that we have data fit for training a model, all we have to do is import the model from SKLearn and fit it."
   ]
  },
  {
   "cell_type": "code",
   "execution_count": 33,
   "metadata": {},
   "outputs": [],
   "source": [
    "from sklearn.linear_model import LinearRegression\n",
    "\n",
    "reg = LinearRegression().fit(X_train, y_train)"
   ]
  },
  {
   "cell_type": "markdown",
   "metadata": {},
   "source": [
    "And that's all it takes! Now that our model is stored in this variable, `reg`, we can use it to predict crime for any date."
   ]
  },
  {
   "cell_type": "code",
   "execution_count": 23,
   "metadata": {},
   "outputs": [],
   "source": [
    "# let's make predictors for the last day in our dataset\n",
    "X_lastday = make_predictors(\n",
    "    crime,\n",
    "    [dt.datetime.strptime('2019-02-06', '%Y-%m-%d')],\n",
    "    nhood,\n",
    "    crimetype\n",
    ")\n",
    "y_lastday = make_responses(crime,\n",
    "    [dt.datetime.strptime('2019-02-06', '%Y-%m-%d')],\n",
    "    nhood,\n",
    "    crimetype\n",
    ").iloc[0][0]"
   ]
  },
  {
   "cell_type": "code",
   "execution_count": 28,
   "metadata": {},
   "outputs": [
    {
     "name": "stdout",
     "output_type": "stream",
     "text": [
      "Observed:3, Predicted:0.479073663268916\n"
     ]
    }
   ],
   "source": [
    "y_lastday_hat = reg.predict(X_predict)[0][0]\n",
    "print(\"Observed:\" + str(y_lastday) + \", Predicted:\" + str(y_lastday_hat))"
   ]
  },
  {
   "cell_type": "code",
   "execution_count": 9,
   "metadata": {},
   "outputs": [],
   "source": [
    "# let's make predictors for the day after the last day in our dataset\n",
    "X_predict = make_predictors(\n",
    "    crime,\n",
    "    [dt.datetime.strptime('2019-02-07', '%Y-%m-%d')],\n",
    "    nhood,\n",
    "    crimetype\n",
    ")"
   ]
  },
  {
   "cell_type": "code",
   "execution_count": 22,
   "metadata": {},
   "outputs": [
    {
     "data": {
      "text/plain": [
       "3"
      ]
     },
     "execution_count": 22,
     "metadata": {},
     "output_type": "execute_result"
    }
   ],
   "source": [
    "y_lastday.iloc[0][0]"
   ]
  },
  {
   "cell_type": "code",
   "execution_count": 29,
   "metadata": {},
   "outputs": [
    {
     "data": {
      "text/plain": [
       "0.479073663268916"
      ]
     },
     "execution_count": 29,
     "metadata": {},
     "output_type": "execute_result"
    }
   ],
   "source": [
    "reg.predict(X_predict)[0][0]"
   ]
  },
  {
   "cell_type": "code",
   "execution_count": 30,
   "metadata": {},
   "outputs": [
    {
     "data": {
      "text/plain": [
       "array([[-2.06795817e-16, -1.70498467e-02,  3.14217352e-02,\n",
       "        -5.10450624e-03,  5.41167438e-04, -7.51031623e-03,\n",
       "        -2.23050745e-14,  1.04508793e-03,  3.53641472e-03,\n",
       "        -6.70361617e-04,  1.30530526e-04,  1.36540602e-03,\n",
       "         1.87015074e-02,  1.52137169e-01,  6.93420682e-02,\n",
       "        -2.25705712e-02,  1.14487528e-01, -4.08725321e-03,\n",
       "        -9.74303310e-02, -1.96740462e-01, -6.38149520e-02,\n",
       "        -1.51672122e-01,  1.16653714e-01,  6.49937054e-02,\n",
       "         6.00053006e-02, -1.72643399e-02, -7.41913530e-02,\n",
       "         2.21037457e-01,  9.40518666e-02, -1.18818398e-01,\n",
       "        -1.64820534e-01]])"
      ]
     },
     "execution_count": 30,
     "metadata": {},
     "output_type": "execute_result"
    }
   ],
   "source": [
    "# Which features are important?\n",
    "reg.coef_"
   ]
  },
  {
   "cell_type": "markdown",
   "metadata": {},
   "source": [
    "At this point it would be wise to ask, \"How accurate is this prediction?\" \n",
    "\n",
    "One of the ways we can evaluate a regression is by checking the $R^2$, which is a measure of how close the data are to the line we created. A higher $R^2$ is generally better. Let's get SKLearn to tell us the $R^2$ of our model."
   ]
  },
  {
   "cell_type": "code",
   "execution_count": 11,
   "metadata": {},
   "outputs": [
    {
     "data": {
      "text/plain": [
       "0.050856452070279556"
      ]
     },
     "execution_count": 11,
     "metadata": {},
     "output_type": "execute_result"
    }
   ],
   "source": [
    "reg.score(X_train, y_train)"
   ]
  },
  {
   "cell_type": "markdown",
   "metadata": {},
   "source": [
    "## Other models\n",
    "Let's try out some other models and see how they compare to the linear regression model. SKLearn offers a plethora of statistical algorithms for us to try.\n",
    "\n",
    "Try creating a [ridge](https://scikit-learn.org/stable/modules/linear_model.html#ridge-regression), \n",
    "[lasso](https://scikit-learn.org/stable/modules/linear_model.html#lasso), \n",
    "[k nearest neighbors](https://scikit-learn.org/stable/modules/generated/sklearn.neighbors.KNeighborsRegressor.html#sklearn.neighbors.KNeighborsRegressor), \n",
    "or [regression tree](https://scikit-learn.org/stable/modules/tree.html#regression) \n",
    "model. Click the link to read about the algorithm and see an example. How does your model compare to the linear regression? Can you explain any differences in results based on the model's algorithm?"
   ]
  },
  {
   "cell_type": "code",
   "execution_count": null,
   "metadata": {},
   "outputs": [],
   "source": []
  }
 ],
 "metadata": {
  "kernelspec": {
   "display_name": "denvercrime",
   "language": "python",
   "name": "denvercrime"
  },
  "language_info": {
   "codemirror_mode": {
    "name": "ipython",
    "version": 3
   },
   "file_extension": ".py",
   "mimetype": "text/x-python",
   "name": "python",
   "nbconvert_exporter": "python",
   "pygments_lexer": "ipython3",
   "version": "3.6.7"
  }
 },
 "nbformat": 4,
 "nbformat_minor": 2
}
